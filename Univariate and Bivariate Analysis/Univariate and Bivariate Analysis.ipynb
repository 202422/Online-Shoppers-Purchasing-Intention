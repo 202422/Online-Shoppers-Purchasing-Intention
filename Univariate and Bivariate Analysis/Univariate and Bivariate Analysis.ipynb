{
  "cells": [
    {
      "cell_type": "markdown",
      "id": "f472dbaa-9e88-4655-ae9d-9a4017f0aec7",
      "metadata": {
        "id": "f472dbaa-9e88-4655-ae9d-9a4017f0aec7"
      },
      "source": [
        "# Packages Import"
      ]
    },
    {
      "cell_type": "code",
      "execution_count": 1,
      "id": "36813607-3bbe-4a12-9dbe-8dc4efd6b56d",
      "metadata": {
        "id": "36813607-3bbe-4a12-9dbe-8dc4efd6b56d"
      },
      "outputs": [],
      "source": [
        "import pandas as pd\n",
        "import numpy as np\n",
        "import matplotlib.pyplot as plt\n",
        "import seaborn as sns\n",
        "import scipy.stats as stats"
      ]
    }
  ],
  "metadata": {
    "kernelspec": {
      "display_name": "Python 3 (ipykernel)",
      "language": "python",
      "name": "python3"
    },
    "language_info": {
      "codemirror_mode": {
        "name": "ipython",
        "version": 3
      },
      "file_extension": ".py",
      "mimetype": "text/x-python",
      "name": "python",
      "nbconvert_exporter": "python",
      "pygments_lexer": "ipython3",
      "version": "3.11.5"
    },
    "colab": {
      "provenance": []
    }
  },
  "nbformat": 4,
  "nbformat_minor": 5
}